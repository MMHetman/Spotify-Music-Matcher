{
 "cells": [
  {
   "cell_type": "code",
   "execution_count": 16,
   "outputs": [],
   "source": [
    "import pandas as pd\n",
    "import requests\n",
    "import pathlib\n",
    "import os"
   ],
   "metadata": {
    "collapsed": false,
    "pycharm": {
     "name": "#%%\n"
    }
   }
  },
  {
   "cell_type": "code",
   "execution_count": 3,
   "metadata": {
    "collapsed": true,
    "pycharm": {
     "name": "#%% GET LINKS\n"
    }
   },
   "outputs": [],
   "source": [
    "dataset = pd.read_csv(\"cover_n_sample.csv\")\n",
    "cover_links = dataset[[\"id\",\"cover\"]]\n",
    "sample_links = dataset[[\"id\",\"sample\"]]\n"
   ]
  },
  {
   "cell_type": "code",
   "execution_count": 6,
   "outputs": [],
   "source": [
    "path = pathlib.Path(\"/media/mhetman/Samsung USB/samples\")\n",
    "path.mkdir(parents=True, exist_ok=True)\n",
    "for i in range(95000, len(dataset)) :\n",
    "    row = dataset.iloc[i]\n",
    "    if pd.isna(row['sample']):\n",
    "        continue\n",
    "    filename = row['id']\n",
    "    filepath = path / filename\n",
    "    response = requests.get(row['sample'])\n",
    "    with filepath.open('wb') as f:\n",
    "       f.write(response.content)\n"
   ],
   "metadata": {
    "collapsed": false,
    "pycharm": {
     "name": "#%% GET SAMPLES\n"
    }
   }
  }
 ],
 "metadata": {
  "kernelspec": {
   "display_name": "Python 3",
   "language": "python",
   "name": "python3"
  },
  "language_info": {
   "codemirror_mode": {
    "name": "ipython",
    "version": 2
   },
   "file_extension": ".py",
   "mimetype": "text/x-python",
   "name": "python",
   "nbconvert_exporter": "python",
   "pygments_lexer": "ipython2",
   "version": "2.7.6"
  }
 },
 "nbformat": 4,
 "nbformat_minor": 0
}