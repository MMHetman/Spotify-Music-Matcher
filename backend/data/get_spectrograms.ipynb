{
 "cells": [
  {
   "cell_type": "code",
   "execution_count": 1,
   "outputs": [],
   "source": [
    "from pydub import AudioSegment\n",
    "import matplotlib.pyplot as plt\n",
    "from scipy.io import wavfile\n",
    "from tempfile import mktemp\n",
    "import sys"
   ],
   "metadata": {
    "collapsed": false,
    "pycharm": {
     "name": "#%%\n"
    }
   }
  },
  {
   "cell_type": "code",
   "execution_count": 5,
   "outputs": [
    {
     "name": "stdout",
     "output_type": "stream",
     "text": [
      "['/home/mhetman/PycharmProjects/Spotify-Music-Matcher', '/home/mhetman/PycharmProjects/Spotify-Music-Matcher', '/usr/lib/python37.zip', '/usr/lib/python3.7', '/usr/lib/python3.7/lib-dynload', '', '/home/mhetman/PycharmProjects/Spotify-Music-Matcher/venv/lib/python3.7/site-packages', '/app/lib/python3.7/site-packages', '/home/mhetman/PycharmProjects/Spotify-Music-Matcher/venv/lib/python3.7/site-packages/IPython/extensions', '/home/mhetman/.ipython', '/app/extra/plugins/python/helpers/pydev', '/app/extra/plugins/python/helpers-pro/jupyter_debug', '/usr/bin/ffmpeg', '/usr/bin/ffmpeg']\n"
     ]
    },
    {
     "name": "stderr",
     "output_type": "stream",
     "text": [
      "/home/mhetman/PycharmProjects/Spotify-Music-Matcher/venv/lib/python3.7/site-packages/pydub/utils.py:198: RuntimeWarning: Couldn't find ffprobe or avprobe - defaulting to ffprobe, but may not work\n",
      "  warn(\"Couldn't find ffprobe or avprobe - defaulting to ffprobe, but may not work\", RuntimeWarning)\n"
     ]
    },
    {
     "ename": "FileNotFoundError",
     "evalue": "[Errno 2] No such file or directory: 'ffprobe': 'ffprobe'",
     "output_type": "error",
     "traceback": [
      "\u001B[0;31m---------------------------------------------------------------------------\u001B[0m",
      "\u001B[0;31mFileNotFoundError\u001B[0m                         Traceback (most recent call last)",
      "\u001B[0;32m<ipython-input-5-bc1d05977332>\u001B[0m in \u001B[0;36m<module>\u001B[0;34m\u001B[0m\n\u001B[1;32m      1\u001B[0m \u001B[0msys\u001B[0m\u001B[0;34m.\u001B[0m\u001B[0mpath\u001B[0m\u001B[0;34m.\u001B[0m\u001B[0mappend\u001B[0m\u001B[0;34m(\u001B[0m\u001B[0;34m'/usr/bin/ffmpeg'\u001B[0m\u001B[0;34m)\u001B[0m\u001B[0;34m\u001B[0m\u001B[0;34m\u001B[0m\u001B[0m\n\u001B[1;32m      2\u001B[0m \u001B[0mprint\u001B[0m\u001B[0;34m(\u001B[0m\u001B[0msys\u001B[0m\u001B[0;34m.\u001B[0m\u001B[0mpath\u001B[0m\u001B[0;34m)\u001B[0m\u001B[0;34m\u001B[0m\u001B[0;34m\u001B[0m\u001B[0m\n\u001B[0;32m----> 3\u001B[0;31m \u001B[0mmp3_audio\u001B[0m \u001B[0;34m=\u001B[0m \u001B[0mAudioSegment\u001B[0m\u001B[0;34m.\u001B[0m\u001B[0mfrom_mp3\u001B[0m\u001B[0;34m(\u001B[0m\u001B[0;34m'0A3JTAIflJc9Z7nbOVYlAh'\u001B[0m\u001B[0;34m)\u001B[0m\u001B[0;34m\u001B[0m\u001B[0;34m\u001B[0m\u001B[0m\n\u001B[0m\u001B[1;32m      4\u001B[0m \u001B[0mwname\u001B[0m \u001B[0;34m=\u001B[0m \u001B[0mmktemp\u001B[0m\u001B[0;34m(\u001B[0m\u001B[0;34m'.wav'\u001B[0m\u001B[0;34m)\u001B[0m  \u001B[0;31m# use temporary file\u001B[0m\u001B[0;34m\u001B[0m\u001B[0;34m\u001B[0m\u001B[0m\n\u001B[1;32m      5\u001B[0m \u001B[0mmp3_audio\u001B[0m\u001B[0;34m.\u001B[0m\u001B[0mexport\u001B[0m\u001B[0;34m(\u001B[0m\u001B[0mwname\u001B[0m\u001B[0;34m,\u001B[0m \u001B[0mformat\u001B[0m\u001B[0;34m=\u001B[0m\u001B[0;34m\"wav\"\u001B[0m\u001B[0;34m)\u001B[0m  \u001B[0;31m# convert to wav\u001B[0m\u001B[0;34m\u001B[0m\u001B[0;34m\u001B[0m\u001B[0m\n",
      "\u001B[0;32m~/PycharmProjects/Spotify-Music-Matcher/venv/lib/python3.7/site-packages/pydub/audio_segment.py\u001B[0m in \u001B[0;36mfrom_mp3\u001B[0;34m(cls, file, parameters)\u001B[0m\n\u001B[1;32m    736\u001B[0m     \u001B[0;34m@\u001B[0m\u001B[0mclassmethod\u001B[0m\u001B[0;34m\u001B[0m\u001B[0;34m\u001B[0m\u001B[0m\n\u001B[1;32m    737\u001B[0m     \u001B[0;32mdef\u001B[0m \u001B[0mfrom_mp3\u001B[0m\u001B[0;34m(\u001B[0m\u001B[0mcls\u001B[0m\u001B[0;34m,\u001B[0m \u001B[0mfile\u001B[0m\u001B[0;34m,\u001B[0m \u001B[0mparameters\u001B[0m\u001B[0;34m=\u001B[0m\u001B[0;32mNone\u001B[0m\u001B[0;34m)\u001B[0m\u001B[0;34m:\u001B[0m\u001B[0;34m\u001B[0m\u001B[0;34m\u001B[0m\u001B[0m\n\u001B[0;32m--> 738\u001B[0;31m         \u001B[0;32mreturn\u001B[0m \u001B[0mcls\u001B[0m\u001B[0;34m.\u001B[0m\u001B[0mfrom_file\u001B[0m\u001B[0;34m(\u001B[0m\u001B[0mfile\u001B[0m\u001B[0;34m,\u001B[0m \u001B[0;34m'mp3'\u001B[0m\u001B[0;34m,\u001B[0m \u001B[0mparameters\u001B[0m\u001B[0;34m=\u001B[0m\u001B[0mparameters\u001B[0m\u001B[0;34m)\u001B[0m\u001B[0;34m\u001B[0m\u001B[0;34m\u001B[0m\u001B[0m\n\u001B[0m\u001B[1;32m    739\u001B[0m \u001B[0;34m\u001B[0m\u001B[0m\n\u001B[1;32m    740\u001B[0m     \u001B[0;34m@\u001B[0m\u001B[0mclassmethod\u001B[0m\u001B[0;34m\u001B[0m\u001B[0;34m\u001B[0m\u001B[0m\n",
      "\u001B[0;32m~/PycharmProjects/Spotify-Music-Matcher/venv/lib/python3.7/site-packages/pydub/audio_segment.py\u001B[0m in \u001B[0;36mfrom_file\u001B[0;34m(cls, file, format, codec, parameters, **kwargs)\u001B[0m\n\u001B[1;32m    683\u001B[0m             \u001B[0minfo\u001B[0m \u001B[0;34m=\u001B[0m \u001B[0;32mNone\u001B[0m\u001B[0;34m\u001B[0m\u001B[0;34m\u001B[0m\u001B[0m\n\u001B[1;32m    684\u001B[0m         \u001B[0;32melse\u001B[0m\u001B[0;34m:\u001B[0m\u001B[0;34m\u001B[0m\u001B[0;34m\u001B[0m\u001B[0m\n\u001B[0;32m--> 685\u001B[0;31m             \u001B[0minfo\u001B[0m \u001B[0;34m=\u001B[0m \u001B[0mmediainfo_json\u001B[0m\u001B[0;34m(\u001B[0m\u001B[0morig_file\u001B[0m\u001B[0;34m,\u001B[0m \u001B[0mread_ahead_limit\u001B[0m\u001B[0;34m=\u001B[0m\u001B[0mread_ahead_limit\u001B[0m\u001B[0;34m)\u001B[0m\u001B[0;34m\u001B[0m\u001B[0;34m\u001B[0m\u001B[0m\n\u001B[0m\u001B[1;32m    686\u001B[0m         \u001B[0;32mif\u001B[0m \u001B[0minfo\u001B[0m\u001B[0;34m:\u001B[0m\u001B[0;34m\u001B[0m\u001B[0;34m\u001B[0m\u001B[0m\n\u001B[1;32m    687\u001B[0m             audio_streams = [x for x in info['streams']\n",
      "\u001B[0;32m~/PycharmProjects/Spotify-Music-Matcher/venv/lib/python3.7/site-packages/pydub/utils.py\u001B[0m in \u001B[0;36mmediainfo_json\u001B[0;34m(filepath, read_ahead_limit)\u001B[0m\n\u001B[1;32m    272\u001B[0m \u001B[0;34m\u001B[0m\u001B[0m\n\u001B[1;32m    273\u001B[0m     \u001B[0mcommand\u001B[0m \u001B[0;34m=\u001B[0m \u001B[0;34m[\u001B[0m\u001B[0mprober\u001B[0m\u001B[0;34m,\u001B[0m \u001B[0;34m'-of'\u001B[0m\u001B[0;34m,\u001B[0m \u001B[0;34m'json'\u001B[0m\u001B[0;34m]\u001B[0m \u001B[0;34m+\u001B[0m \u001B[0mcommand_args\u001B[0m\u001B[0;34m\u001B[0m\u001B[0;34m\u001B[0m\u001B[0m\n\u001B[0;32m--> 274\u001B[0;31m     \u001B[0mres\u001B[0m \u001B[0;34m=\u001B[0m \u001B[0mPopen\u001B[0m\u001B[0;34m(\u001B[0m\u001B[0mcommand\u001B[0m\u001B[0;34m,\u001B[0m \u001B[0mstdin\u001B[0m\u001B[0;34m=\u001B[0m\u001B[0mstdin_parameter\u001B[0m\u001B[0;34m,\u001B[0m \u001B[0mstdout\u001B[0m\u001B[0;34m=\u001B[0m\u001B[0mPIPE\u001B[0m\u001B[0;34m,\u001B[0m \u001B[0mstderr\u001B[0m\u001B[0;34m=\u001B[0m\u001B[0mPIPE\u001B[0m\u001B[0;34m)\u001B[0m\u001B[0;34m\u001B[0m\u001B[0;34m\u001B[0m\u001B[0m\n\u001B[0m\u001B[1;32m    275\u001B[0m     \u001B[0moutput\u001B[0m\u001B[0;34m,\u001B[0m \u001B[0mstderr\u001B[0m \u001B[0;34m=\u001B[0m \u001B[0mres\u001B[0m\u001B[0;34m.\u001B[0m\u001B[0mcommunicate\u001B[0m\u001B[0;34m(\u001B[0m\u001B[0minput\u001B[0m\u001B[0;34m=\u001B[0m\u001B[0mstdin_data\u001B[0m\u001B[0;34m)\u001B[0m\u001B[0;34m\u001B[0m\u001B[0;34m\u001B[0m\u001B[0m\n\u001B[1;32m    276\u001B[0m     \u001B[0moutput\u001B[0m \u001B[0;34m=\u001B[0m \u001B[0moutput\u001B[0m\u001B[0;34m.\u001B[0m\u001B[0mdecode\u001B[0m\u001B[0;34m(\u001B[0m\u001B[0;34m\"utf-8\"\u001B[0m\u001B[0;34m,\u001B[0m \u001B[0;34m'ignore'\u001B[0m\u001B[0;34m)\u001B[0m\u001B[0;34m\u001B[0m\u001B[0;34m\u001B[0m\u001B[0m\n",
      "\u001B[0;32m/usr/lib/python3.7/subprocess.py\u001B[0m in \u001B[0;36m__init__\u001B[0;34m(self, args, bufsize, executable, stdin, stdout, stderr, preexec_fn, close_fds, shell, cwd, env, universal_newlines, startupinfo, creationflags, restore_signals, start_new_session, pass_fds, encoding, errors, text)\u001B[0m\n\u001B[1;32m    773\u001B[0m                                 \u001B[0mc2pread\u001B[0m\u001B[0;34m,\u001B[0m \u001B[0mc2pwrite\u001B[0m\u001B[0;34m,\u001B[0m\u001B[0;34m\u001B[0m\u001B[0;34m\u001B[0m\u001B[0m\n\u001B[1;32m    774\u001B[0m                                 \u001B[0merrread\u001B[0m\u001B[0;34m,\u001B[0m \u001B[0merrwrite\u001B[0m\u001B[0;34m,\u001B[0m\u001B[0;34m\u001B[0m\u001B[0;34m\u001B[0m\u001B[0m\n\u001B[0;32m--> 775\u001B[0;31m                                 restore_signals, start_new_session)\n\u001B[0m\u001B[1;32m    776\u001B[0m         \u001B[0;32mexcept\u001B[0m\u001B[0;34m:\u001B[0m\u001B[0;34m\u001B[0m\u001B[0;34m\u001B[0m\u001B[0m\n\u001B[1;32m    777\u001B[0m             \u001B[0;31m# Cleanup if the child failed starting.\u001B[0m\u001B[0;34m\u001B[0m\u001B[0;34m\u001B[0m\u001B[0;34m\u001B[0m\u001B[0m\n",
      "\u001B[0;32m/usr/lib/python3.7/subprocess.py\u001B[0m in \u001B[0;36m_execute_child\u001B[0;34m(self, args, executable, preexec_fn, close_fds, pass_fds, cwd, env, startupinfo, creationflags, shell, p2cread, p2cwrite, c2pread, c2pwrite, errread, errwrite, restore_signals, start_new_session)\u001B[0m\n\u001B[1;32m   1520\u001B[0m                         \u001B[0;32mif\u001B[0m \u001B[0merrno_num\u001B[0m \u001B[0;34m==\u001B[0m \u001B[0merrno\u001B[0m\u001B[0;34m.\u001B[0m\u001B[0mENOENT\u001B[0m\u001B[0;34m:\u001B[0m\u001B[0;34m\u001B[0m\u001B[0;34m\u001B[0m\u001B[0m\n\u001B[1;32m   1521\u001B[0m                             \u001B[0merr_msg\u001B[0m \u001B[0;34m+=\u001B[0m \u001B[0;34m': '\u001B[0m \u001B[0;34m+\u001B[0m \u001B[0mrepr\u001B[0m\u001B[0;34m(\u001B[0m\u001B[0merr_filename\u001B[0m\u001B[0;34m)\u001B[0m\u001B[0;34m\u001B[0m\u001B[0;34m\u001B[0m\u001B[0m\n\u001B[0;32m-> 1522\u001B[0;31m                     \u001B[0;32mraise\u001B[0m \u001B[0mchild_exception_type\u001B[0m\u001B[0;34m(\u001B[0m\u001B[0merrno_num\u001B[0m\u001B[0;34m,\u001B[0m \u001B[0merr_msg\u001B[0m\u001B[0;34m,\u001B[0m \u001B[0merr_filename\u001B[0m\u001B[0;34m)\u001B[0m\u001B[0;34m\u001B[0m\u001B[0;34m\u001B[0m\u001B[0m\n\u001B[0m\u001B[1;32m   1523\u001B[0m                 \u001B[0;32mraise\u001B[0m \u001B[0mchild_exception_type\u001B[0m\u001B[0;34m(\u001B[0m\u001B[0merr_msg\u001B[0m\u001B[0;34m)\u001B[0m\u001B[0;34m\u001B[0m\u001B[0;34m\u001B[0m\u001B[0m\n\u001B[1;32m   1524\u001B[0m \u001B[0;34m\u001B[0m\u001B[0m\n",
      "\u001B[0;31mFileNotFoundError\u001B[0m: [Errno 2] No such file or directory: 'ffprobe': 'ffprobe'"
     ]
    }
   ],
   "source": [
    "sys.path.append('/usr/bin/ffmpeg')\n",
    "print(sys.path)\n",
    "mp3_audio = AudioSegment.from_mp3('0A3JTAIflJc9Z7nbOVYlAh')\n",
    "wname = mktemp('.wav')  # use temporary file\n",
    "mp3_audio.export(wname, format=\"wav\")  # convert to wav\n",
    "FS, data = wavfile.read(wname)  # read wav file\n",
    "plt.specgram(data, Fs=FS, NFFT=128, noverlap=0)  # plot\n",
    "plt.show()\n"
   ],
   "metadata": {
    "collapsed": false,
    "pycharm": {
     "name": "#%%\n"
    }
   }
  }
 ],
 "metadata": {
  "kernelspec": {
   "display_name": "Python 3",
   "language": "python",
   "name": "python3"
  },
  "language_info": {
   "codemirror_mode": {
    "name": "ipython",
    "version": 2
   },
   "file_extension": ".py",
   "mimetype": "text/x-python",
   "name": "python",
   "nbconvert_exporter": "python",
   "pygments_lexer": "ipython2",
   "version": "2.7.6"
  }
 },
 "nbformat": 4,
 "nbformat_minor": 0
}