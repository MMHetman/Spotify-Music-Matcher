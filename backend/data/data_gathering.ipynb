{
 "cells": [
  {
   "cell_type": "code",
   "execution_count": 21,
   "outputs": [],
   "source": [
    "import pandas as pd\n",
    "import spotipy\n",
    "from spotipy.oauth2 import SpotifyClientCredentials"
   ],
   "metadata": {
    "collapsed": false,
    "pycharm": {
     "name": "#%%\n"
    }
   }
  },
  {
   "cell_type": "code",
   "execution_count": 22,
   "outputs": [],
   "source": [
    "cid = '18ef04bfcc4749dd8e7e23c4e3c114af'\n",
    "secret = '204361e7fd324bbfb9d32dcbeeb94708'\n",
    "client_credentials_manager = SpotifyClientCredentials(client_id=cid, client_secret=secret)\n",
    "sp = spotipy.Spotify(client_credentials_manager = client_credentials_manager)"
   ],
   "metadata": {
    "collapsed": false,
    "pycharm": {
     "name": "#%%\n"
    }
   }
  },
  {
   "cell_type": "code",
   "execution_count": 20,
   "outputs": [],
   "source": [
    "spotify_data = pd.read_csv('SpotifyFeatures.csv')\n",
    "spotify_data = spotify_data.drop_duplicates(subset = ['track_id'])\n",
    "spotify_data.to_csv('SpotifyFeaturesCleaned.csv', index=False)\n"
   ],
   "metadata": {
    "collapsed": false,
    "pycharm": {
     "name": "#%%\n"
    }
   }
  },
  {
   "cell_type": "code",
   "execution_count": 43,
   "outputs": [],
   "source": [
    "spotify_data = pd.read_csv('SpotifyFeaturesCleaned.csv')\n",
    "track_ids = spotify_data['track_id'].to_list();\n"
   ],
   "metadata": {
    "collapsed": false,
    "pycharm": {
     "name": "#%%\n"
    }
   }
  },
  {
   "cell_type": "code",
   "execution_count": 10,
   "outputs": [],
   "source": [
    "names = []\n",
    "samples = []\n",
    "covers = []\n",
    "for i in range(0, len(track_ids), 50):\n",
    "    tracks = sp.tracks(track_ids[i:i+50])['tracks']\n",
    "    for track in tracks:\n",
    "        names.append(track['name'])\n",
    "        samples.append(track['preview_url'])\n",
    "        covers.append(track['album']['images'][0]['url'] if track['album']['images'] else None)"
   ],
   "metadata": {
    "collapsed": false,
    "pycharm": {
     "name": "#%%\n"
    }
   }
  },
  {
   "cell_type": "code",
   "execution_count": 24,
   "outputs": [],
   "source": [
    "cover_n_sample_df = pd.DataFrame(list(zip(track_ids, names, samples, covers)), \n",
    "               columns =['id', 'name', 'sample', 'cover'])"
   ],
   "metadata": {
    "collapsed": false,
    "pycharm": {
     "name": "#%%\n"
    }
   }
  },
  {
   "cell_type": "code",
   "execution_count": 26,
   "outputs": [],
   "source": [
    "cover_n_sample_df.to_csv('cover_n_sample.csv')\n"
   ],
   "metadata": {
    "collapsed": false,
    "pycharm": {
     "name": "#%%\n"
    }
   }
  },
  {
   "cell_type": "code",
   "execution_count": 39,
   "outputs": [],
   "source": [
    "artist_names = []\n",
    "artist_ids = []\n",
    "artist_track_ids = []\n",
    "for i in range(0, len(track_ids), 50):\n",
    "    tracks = sp.tracks(track_ids[i:i+50])['tracks']\n",
    "    for track in tracks:\n",
    "        artists = track['artists']\n",
    "        for artist in artists:\n",
    "            artist_track_ids.append(track['id'])\n",
    "            artist_names.append(artist['name'])\n",
    "            artist_ids.append(artist['id'])\n"
   ],
   "metadata": {
    "collapsed": false,
    "pycharm": {
     "name": "#%%\n"
    }
   }
  },
  {
   "cell_type": "code",
   "execution_count": 44,
   "outputs": [],
   "source": [
    "song_artist_df = pd.DataFrame(list(zip(artist_names, artist_ids, artist_track_ids)),\n",
    "               columns =['artist_name', 'artist_id', 'track_id'])"
   ],
   "metadata": {
    "collapsed": false,
    "pycharm": {
     "name": "#%%\n"
    }
   }
  },
  {
   "cell_type": "code",
   "execution_count": 41,
   "outputs": [],
   "source": [
    "song_artist_df.to_csv('song_n_artist.csv')"
   ],
   "metadata": {
    "collapsed": false,
    "pycharm": {
     "name": "#%%\n"
    }
   }
  },
  {
   "cell_type": "code",
   "execution_count": 31,
   "outputs": [],
   "source": [
    "artist_ids_unique = list(set(artist_ids))\n",
    "artists_ids_genres = []\n",
    "artists_genres = []\n",
    "\n",
    "for i in range(0, len(artist_ids_unique), 50):\n",
    "    artists = sp.artists(artist_ids_unique[i:i+50])['artists']\n",
    "    for artist in artists:\n",
    "        genres = artist['genres']\n",
    "        for genre in genres:\n",
    "            artists_ids_genres.append(artist['id'])\n",
    "            artists_genres.append(genre)"
   ],
   "metadata": {
    "collapsed": false,
    "pycharm": {
     "name": "#%%\n"
    }
   }
  },
  {
   "cell_type": "code",
   "execution_count": 32,
   "outputs": [],
   "source": [
    "artists_genres_df = pd.DataFrame(list(zip(artists_ids_genres, artists_genres)),\n",
    "               columns =['artist_id', 'genre'])"
   ],
   "metadata": {
    "collapsed": false,
    "pycharm": {
     "name": "#%%\n"
    }
   }
  },
  {
   "cell_type": "code",
   "execution_count": 33,
   "outputs": [],
   "source": [
    "artists_genres_df.to_csv('artists_n_genres.csv')"
   ],
   "metadata": {
    "collapsed": false,
    "pycharm": {
     "name": "#%%\n"
    }
   }
  },
  {
   "cell_type": "code",
   "execution_count": null,
   "outputs": [],
   "source": [
    "from backend.data.database_utils import upload_dataframe_as_table\n",
    "upload_dataframe_as_table(spotify_data, 'tracks')\n",
    "upload_dataframe_as_table(song_artist_df, 'song_n_artist')\n",
    "upload_dataframe_as_table(artists_genres_df, 'artist_n_genres')"
   ],
   "metadata": {
    "collapsed": false,
    "pycharm": {
     "name": "#%%\n"
    }
   }
  }
 ],
 "metadata": {
  "kernelspec": {
   "name": "python3",
   "language": "python",
   "display_name": "Python 3"
  },
  "language_info": {
   "codemirror_mode": {
    "name": "ipython",
    "version": 2
   },
   "file_extension": ".py",
   "mimetype": "text/x-python",
   "name": "python",
   "nbconvert_exporter": "python",
   "pygments_lexer": "ipython2",
   "version": "2.7.6"
  }
 },
 "nbformat": 4,
 "nbformat_minor": 0
}